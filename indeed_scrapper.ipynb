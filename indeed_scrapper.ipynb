{
 "cells": [
  {
   "cell_type": "markdown",
   "id": "3c913027",
   "metadata": {},
   "source": [
    "### Indeed Scrapper"
   ]
  },
  {
   "cell_type": "code",
   "execution_count": 57,
   "id": "f139b4f5",
   "metadata": {},
   "outputs": [],
   "source": [
    "from selenium import webdriver\n",
    "from selenium.webdriver.chrome.service import Service\n",
    "from webdriver_manager.chrome import ChromeDriverManager\n",
    "from bs4 import BeautifulSoup\n",
    "import time\n",
    "\n",
    "# Setup Selenium WebDriver\n",
    "options = webdriver.ChromeOptions()\n",
    "options.add_argument('--headless')\n",
    "driver = webdriver.Chrome(service=Service(ChromeDriverManager().install()), options=options)\n",
    "\n",
    "\n",
    "# Open LinkedIn Jobs Page\n",
    "url = \"https://www.glassdoor.com/Job/islamabad-islamabad-pakistan-data-analyst-jobs-SRCH_IL.0,28_IC3139539_KO29,41.htm\"\n",
    "driver.get(url)\n",
    "time.sleep(5)\n",
    "\n",
    "# Parse with BeautifulSoup\n",
    "soup = BeautifulSoup(driver.page_source, 'html.parser')\n"
   ]
  },
  {
   "cell_type": "code",
   "execution_count": null,
   "id": "00e4b4f7",
   "metadata": {},
   "outputs": [
    {
     "name": "stdout",
     "output_type": "stream",
     "text": [
      "[]\n"
     ]
    }
   ],
   "source": [
    "from selenium import webdriver\n",
    "from selenium.webdriver.chrome.service import Service\n",
    "from selenium.webdriver.chrome.options import Options\n",
    "from bs4 import BeautifulSoup\n",
    "import pandas as pd\n",
    "import time\n",
    "\n",
    "# Setup Selenium with headless Chrome\n",
    "options = Options()\n",
    "options.add_argument(\"--headless\")\n",
    "driver = webdriver.Chrome(service=Service(ChromeDriverManager().install()), options=options)\n",
    "# driver = webdriver.Chrome(service=service, options=options)\n",
    "\n",
    "# Target URL\n",
    "url = \"https://www.glassdoor.com/Job/index.htm\"\n",
    "\n",
    "driver.get(url)\n",
    "time.sleep(5)  # \n",
    "\n",
    "soup = BeautifulSoup(driver.page_source, 'html.parser')\n",
    "\n",
    "# Lists\n",
    "job_titles = []\n",
    "companies = []\n",
    "locations = []\n",
    "salaries = []\n",
    "summaries = []\n",
    "\n",
    "# Find all job listings\n",
    "job_cards = soup.find_all('div', class_=\"EmployerProfile_employerInfo___kmLv\")\n",
    "print(job_cards)\n"
   ]
  },
  {
   "cell_type": "code",
   "execution_count": null,
   "id": "669df217",
   "metadata": {},
   "outputs": [],
   "source": []
  }
 ],
 "metadata": {
  "kernelspec": {
   "display_name": "smithac",
   "language": "python",
   "name": "python3"
  },
  "language_info": {
   "codemirror_mode": {
    "name": "ipython",
    "version": 3
   },
   "file_extension": ".py",
   "mimetype": "text/x-python",
   "name": "python",
   "nbconvert_exporter": "python",
   "pygments_lexer": "ipython3",
   "version": "3.12.7"
  }
 },
 "nbformat": 4,
 "nbformat_minor": 5
}
