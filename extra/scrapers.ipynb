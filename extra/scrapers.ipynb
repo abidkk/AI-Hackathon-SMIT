{
 "cells": [
  {
   "cell_type": "code",
   "execution_count": 102,
   "id": "bc5c8a40",
   "metadata": {},
   "outputs": [
    {
     "name": "stdout",
     "output_type": "stream",
     "text": [
      "False\n"
     ]
    }
   ],
   "source": [
    "import requests\n",
    "from bs4 import BeautifulSoup, Comment\n",
    "import os\n",
    "print(os.path.isfile(\"../AI-Hackathon-SMIT/chrome-win64\"))\n"
   ]
  },
  {
   "cell_type": "markdown",
   "id": "c6e801a6",
   "metadata": {},
   "source": [
    "### Linkedin Scrapper"
   ]
  },
  {
   "cell_type": "code",
   "execution_count": 110,
   "id": "b74d5a9e",
   "metadata": {},
   "outputs": [],
   "source": [
    "linkeddata = requests.get(\"https://www.linkedin.com/jobs/search/?currentJobId=4225523444&geoId=101022442&keywords=data%20scientist&origin=JOBS_HOME_SEARCH_BUTTON&refresh=true\")\n",
    "\n",
    "\n",
    "# print(linkeddata)\n",
    "linksoup = BeautifulSoup(linkeddata.content, 'html.parser')\n",
    "\n",
    "titles = []\n",
    "company = []\n",
    "location = []\n",
    "skills = []\n",
    "posted_data = []\n",
    "\n",
    "\n"
   ]
  },
  {
   "cell_type": "code",
   "execution_count": 112,
   "id": "c375f955",
   "metadata": {},
   "outputs": [],
   "source": [
    "# fetching titles\n",
    "divs = linksoup.find_all(\"div\")\n",
    "for div in divs:\n",
    "    a_tags = div.find_all(\"a\")\n",
    "    for a_tag in a_tags:\n",
    "        span_tags = a_tag.find_all(\"span\")\n",
    "        for span in span_tags:\n",
    "            job_title = span.text.strip()\n",
    "            titles.append(job_title)\n",
    "        \n",
    "          "
   ]
  },
  {
   "cell_type": "code",
   "execution_count": 113,
   "id": "01f24724",
   "metadata": {},
   "outputs": [
    {
     "name": "stdout",
     "output_type": "stream",
     "text": [
      "['LinkedIn', 'ML Engineer', 'AI ML Engineer', 'AI/ML Engineer', 'Senior AI/ML Engineer', 'Associate Software Engineer- AI/ML', 'Artificial Intelligence / Machine Learning Engineer, [ 3years Experience, Salary Range: 500USD-900USD] - Job Id:24052025', 'Associate Software Engineer - AI/ML', 'AI/ML Engineer (Onsite, Lahore, PKR Salary)', 'Senior AIML Engineer', 'ML Engineer (Onsite, Lahore, USD Salary)', 'AI/ML Engineer', 'Senior Software Engineer - Python/AI/ML', 'Data Scientist', 'Machine Learning Engineer', 'Senior Software Engineer - AI/ML', 'Associate Software Engineer- Python', 'Machine Learning Engineer', 'AI/ML Engineer', 'Deep Learning Engineer', 'Machine Learning Engineer', 'Sr. Machine Learning Engineer', 'Senior Software Engineer- AI/ML', 'Machine Learning Engineer', 'Machine Learning Engineer', 'Data Science Engineer', 'Junior AI Engineer', 'Trainee Data Scientist', 'AI Research Scientist', 'Deep Learning Engineer', 'Associate Software Engineer - Data Science', 'Senior Software Engineer - Python/AIML', 'Senior Software Engineer - AI/ML', 'Deep Learning Specialist', 'Senior AI/ML Engineer', 'Software Engineer-Python/Django', 'Machine Learning & Computer Vision Engineer', 'Data Scientist, Tech', 'Senior Data Scientist', 'AI Research Scientist', 'AI Engineer', 'Associate Software Engineer - Data Science', 'AI Engineer', 'Associate Software Engineer- Python/ React', 'Data Science Engineer', 'Interested in joining our team?', 'Associate Unreal Developer', 'NLP Engineer', 'Position Vacant Lab Engineer BPS-17', 'AI Engineer', 'NLP Engineer', 'Data Science Manager', 'Junior Python Developer', 'Python Develpoer', 'AI Software Developer', 'Natural Language Processing (NLP) Engineer', 'Senior Software Engineer - AIML', 'Data Scientist', 'AI Engineer', 'Software Engineer, Machine Learning', 'Machine Learning-R Data Scientist', 'ML Engineer', 'AI ML Engineer', 'AI/ML Engineer', 'Senior AI/ML Engineer', 'Associate Software Engineer- AI/ML', 'Artificial Intelligence / Machine Learning Engineer, [ 3years Experience, Salary Range: 500USD-900USD] - Job Id:24052025', 'Associate Software Engineer - AI/ML', 'AI/ML Engineer (Onsite, Lahore, PKR Salary)', 'Senior AIML Engineer', 'ML Engineer (Onsite, Lahore, USD Salary)', 'AI/ML Engineer', 'Senior Software Engineer - Python/AI/ML', 'Data Scientist', 'Machine Learning Engineer', 'Senior Software Engineer - AI/ML', 'Associate Software Engineer- Python', 'Machine Learning Engineer', 'AI/ML Engineer', 'Deep Learning Engineer', 'Machine Learning Engineer', 'Sr. Machine Learning Engineer', 'Senior Software Engineer- AI/ML', 'Machine Learning Engineer', 'Machine Learning Engineer', 'Data Science Engineer', 'Junior AI Engineer', 'Trainee Data Scientist', 'AI Research Scientist', 'Deep Learning Engineer', 'Associate Software Engineer - Data Science', 'Senior Software Engineer - Python/AIML', 'Senior Software Engineer - AI/ML', 'Deep Learning Specialist', 'Senior AI/ML Engineer', 'Software Engineer-Python/Django', 'Machine Learning & Computer Vision Engineer', 'Data Scientist, Tech', 'Senior Data Scientist', 'AI Research Scientist', 'AI Engineer', 'Associate Software Engineer - Data Science', 'AI Engineer', 'Associate Software Engineer- Python/ React', 'Data Science Engineer', 'Interested in joining our team?', 'Associate Unreal Developer', 'NLP Engineer', 'Position Vacant Lab Engineer BPS-17', 'AI Engineer', 'NLP Engineer', 'Data Science Manager', 'Junior Python Developer', 'Python Develpoer', 'AI Software Developer', 'Natural Language Processing (NLP) Engineer', 'Senior Software Engineer - AIML', 'Data Scientist', 'AI Engineer', 'Software Engineer, Machine Learning', 'Machine Learning-R Data Scientist', 'ML Engineer', 'AI ML Engineer', 'AI/ML Engineer', 'Senior AI/ML Engineer', 'Associate Software Engineer- AI/ML', 'Artificial Intelligence / Machine Learning Engineer, [ 3years Experience, Salary Range: 500USD-900USD] - Job Id:24052025', 'Associate Software Engineer - AI/ML', 'AI/ML Engineer (Onsite, Lahore, PKR Salary)', 'Senior AIML Engineer', 'ML Engineer (Onsite, Lahore, USD Salary)', 'AI/ML Engineer', 'Senior Software Engineer - Python/AI/ML', 'Data Scientist', 'Machine Learning Engineer', 'Senior Software Engineer - AI/ML', 'Associate Software Engineer- Python', 'Machine Learning Engineer', 'AI/ML Engineer', 'Deep Learning Engineer', 'Machine Learning Engineer', 'Sr. Machine Learning Engineer', 'Senior Software Engineer- AI/ML', 'Machine Learning Engineer', 'Machine Learning Engineer', 'Data Science Engineer', 'Junior AI Engineer', 'Trainee Data Scientist', 'AI Research Scientist', 'Deep Learning Engineer', 'Associate Software Engineer - Data Science', 'Senior Software Engineer - Python/AIML', 'Senior Software Engineer - AI/ML', 'Deep Learning Specialist', 'Senior AI/ML Engineer', 'Software Engineer-Python/Django', 'Machine Learning & Computer Vision Engineer', 'Data Scientist, Tech', 'Senior Data Scientist', 'AI Research Scientist', 'AI Engineer', 'Associate Software Engineer - Data Science', 'AI Engineer', 'Associate Software Engineer- Python/ React', 'Data Science Engineer', 'Interested in joining our team?', 'Associate Unreal Developer', 'NLP Engineer', 'Position Vacant Lab Engineer BPS-17', 'AI Engineer', 'NLP Engineer', 'Data Science Manager', 'Junior Python Developer', 'Python Develpoer', 'AI Software Developer', 'Natural Language Processing (NLP) Engineer', 'Senior Software Engineer - AIML', 'Data Scientist', 'AI Engineer', 'Software Engineer, Machine Learning', 'Machine Learning-R Data Scientist']\n"
     ]
    }
   ],
   "source": [
    "print(titles)"
   ]
  },
  {
   "cell_type": "code",
   "execution_count": 137,
   "id": "c009a1c1",
   "metadata": {},
   "outputs": [
    {
     "name": "stdout",
     "output_type": "stream",
     "text": [
      "[]\n"
     ]
    }
   ],
   "source": [
    "# fetching companies\n",
    "\n",
    "# com_divs = linksoup.find_all(\"div\", class_\"artdeco-entity-lockup__subtitle\")\n",
    "divs = linksoup.find_all(\"div\", class_=\"artdeco-entity-lockup__subtitle\")\n",
    "# print(divs)\n",
    "sps = linksoup.find_all(\"span\", class_=\"artdeco-entity-lockup__subtitle\")  # or any valid class\n",
    "\n",
    "print(sps)\n"
   ]
  },
  {
   "cell_type": "code",
   "execution_count": 107,
   "id": "31a9c611",
   "metadata": {},
   "outputs": [],
   "source": [
    "from selenium import webdriver\n",
    "from selenium.webdriver.chrome.service import Service\n",
    "from webdriver_manager.chrome import ChromeDriverManager\n",
    "from bs4 import BeautifulSoup\n",
    "import time\n",
    "\n",
    "options = webdriver.ChromeOptions()\n",
    "options.add_argument(\"--headless\")\n",
    "\n",
    "# This downloads & sets up the right ChromeDriver for you\n",
    "driver = webdriver.Chrome(service=Service(ChromeDriverManager().install()), options=options)\n",
    "\n",
    "driver.get(\"https://www.linkedin.com/jobs/search/?keywords=data%20scientist&location=Pakistan\")\n",
    "time.sleep(5)\n",
    "\n",
    "soup = BeautifulSoup(driver.page_source, \"html.parser\")\n",
    "\n",
    "companies = soup.find_all(\"div\", id=\"ember581\")\n",
    "for c in companies:\n",
    "    print(c.text.strip())\n",
    "\n",
    "driver.quit()\n"
   ]
  },
  {
   "cell_type": "code",
   "execution_count": 139,
   "id": "ccc901fb",
   "metadata": {},
   "outputs": [],
   "source": [
    "from selenium import webdriver\n",
    "from selenium.webdriver.chrome.service import Service\n",
    "from webdriver_manager.chrome import ChromeDriverManager\n",
    "from bs4 import BeautifulSoup\n",
    "import time\n",
    "\n",
    "options = webdriver.ChromeOptions()\n",
    "options.add_argument('--headless')  # comment this out to see the browser\n",
    "driver = webdriver.Chrome(service=Service(ChromeDriverManager().install()), options=options)\n",
    "\n",
    "url = \"https://www.linkedin.com/jobs/search/?keywords=data%20scientist&location=Pakistan\"\n",
    "driver.get(url)\n",
    "time.sleep(5)  # wait for JS to load content\n",
    "\n",
    "soup = BeautifulSoup(driver.page_source, \"html.parser\")\n",
    "\n",
    "# Now try finding your divs\n",
    "# com_divs = soup.find_all(\"span\", class_=\"sr-only\")\n",
    "com_divs = linksoup.find_all(\"div\", class_=\"artdeco-entity-lockup__subtitle\")\n",
    "for span in com_divs:\n",
    "    print(span.text.strip())\n",
    "\n",
    "driver.quit()\n"
   ]
  },
  {
   "cell_type": "code",
   "execution_count": null,
   "id": "00f08543",
   "metadata": {},
   "outputs": [
    {
     "name": "stdout",
     "output_type": "stream",
     "text": [
      "Fusemachines\n",
      "Next Generation Innovations (NextGENi)\n",
      "Fastn\n",
      "Devsinc\n",
      "Devsinc\n",
      "Greeka.com\n",
      "Devsinc\n",
      "HR POD Careers\n",
      "Devsinc\n",
      "HR POD Careers\n",
      "Burq\n",
      "Devsinc\n",
      "CureMD\n",
      "Nisum\n",
      "SwipBox\n",
      "Intelligent solutions PK\n",
      "Devsinc\n",
      "Devsinc\n",
      "Translation Empire PK\n",
      "Translation Empire PK\n",
      "9D Technologies\n",
      "Avanceon Middle East & South Asia\n",
      "Fusemachines\n",
      "Devsinc\n",
      "Conrad Labs\n",
      "Translation Empire PK\n",
      "Devsinc\n",
      "Translation Empire PK\n",
      "Translation Empire PK\n",
      "Devsinc\n",
      "Translation Empire PK\n",
      "Devsinc\n",
      "Devsinc\n",
      "Translation Empire PK\n",
      "Nisum\n",
      "Devsinc\n",
      "Flatgigs\n",
      "ibex\n",
      "FairMoney\n",
      "Translation Empire PK\n",
      "Flatgigs\n",
      "Devsinc\n",
      "Habib Bank AG Zurich\n",
      "Creative Chaos\n",
      "Devsinc\n",
      "Motive\n",
      "Devsinc\n",
      "Translation Empire PK\n",
      "Government  College University, Faisalabad\n",
      "Translation Empire PK\n",
      "Translation Empire PK\n",
      "SWATX\n",
      "Translation Empire PK\n",
      "IKONIC\n",
      "Translation Empire PK\n",
      "Translation Empire PK\n",
      "Devsinc\n",
      "Translation Empire PK\n"
     ]
    }
   ],
   "source": [
    "\n",
    "# Set up Selenium\n",
    "options = webdriver.ChromeOptions()\n",
    "options.add_argument('--headless')  # run in background\n",
    "driver = webdriver.Chrome(service=Service(ChromeDriverManager().install()), options=options)\n",
    "\n",
    "# LinkedIn job search URL\n",
    "url = \"https://www.linkedin.com/jobs/search/?keywords=data%20scientist&location=Pakistan\"\n",
    "driver.get(url)\n",
    "\n",
    "# Wait for JavaScript to load\n",
    "time.sleep(5)\n",
    "\n",
    "# Get page source after rendering\n",
    "soup = BeautifulSoup(driver.page_source, 'html.parser')\n",
    "\n",
    "# Get all job cards\n",
    "job_cards = soup.find_all('div', class_=\"base-search-card__info\")\n",
    "\n",
    "# Extract company names\n",
    "for job in job_cards:\n",
    "    company_span = job.find('h4', class_='base-search-card__subtitle')\n",
    "    if company_span:\n",
    "        print(company_span.get_text(strip=True))\n",
    "\n",
    "driver.quit()\n"
   ]
  },
  {
   "cell_type": "code",
   "execution_count": null,
   "id": "b86937fe",
   "metadata": {},
   "outputs": [],
   "source": []
  }
 ],
 "metadata": {
  "kernelspec": {
   "display_name": "smithac",
   "language": "python",
   "name": "python3"
  },
  "language_info": {
   "codemirror_mode": {
    "name": "ipython",
    "version": 3
   },
   "file_extension": ".py",
   "mimetype": "text/x-python",
   "name": "python",
   "nbconvert_exporter": "python",
   "pygments_lexer": "ipython3",
   "version": "3.12.7"
  }
 },
 "nbformat": 4,
 "nbformat_minor": 5
}
