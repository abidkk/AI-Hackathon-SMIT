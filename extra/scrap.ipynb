{
 "cells": [
  {
   "cell_type": "code",
   "execution_count": 39,
   "id": "5ba630ad",
   "metadata": {},
   "outputs": [
    {
     "name": "stdout",
     "output_type": "stream",
     "text": [
      "100\n"
     ]
    }
   ],
   "source": [
    "print(100)"
   ]
  },
  {
   "cell_type": "code",
   "execution_count": 40,
   "id": "3392bd39",
   "metadata": {},
   "outputs": [],
   "source": [
    "from selenium import webdriver\n",
    "from selenium.webdriver.chrome.service import Service\n",
    "from selenium.webdriver.common.by import By\n",
    "from webdriver_manager.chrome import ChromeDriverManager\n",
    "from bs4 import BeautifulSoup\n",
    "import time\n",
    "\n",
    "# Set up Selenium\n",
    "options = webdriver.ChromeOptions()\n",
    "options.add_argument('--headless')  # run in background\n",
    "driver = webdriver.Chrome(service=Service(ChromeDriverManager().install()), options=options)\n"
   ]
  },
  {
   "cell_type": "markdown",
   "id": "2bfce69a",
   "metadata": {},
   "source": [
    "### Linkedin"
   ]
  },
  {
   "cell_type": "code",
   "execution_count": 41,
   "id": "44240899",
   "metadata": {},
   "outputs": [],
   "source": [
    "# LinkedIn job search URL\n",
    "url = \"https://www.linkedin.com/jobs/search/?keywords=data%20scientist&location=Pakistan\"\n",
    "driver.get(url)\n",
    "\n",
    "# Wait for JavaScript to load\n",
    "time.sleep(5)\n",
    "\n"
   ]
  },
  {
   "cell_type": "code",
   "execution_count": 42,
   "id": "0bc07b57",
   "metadata": {},
   "outputs": [],
   "source": [
    "# Get page source after rendering\n",
    "soup = BeautifulSoup(driver.page_source, 'html.parser')\n",
    "\n",
    "\n",
    "titles = []\n",
    "companies = []\n",
    "locations = []\n",
    "skills = []\n",
    "posted_dates = []\n",
    "\n"
   ]
  },
  {
   "cell_type": "markdown",
   "id": "297b5f78",
   "metadata": {},
   "source": [
    "### Fetching titles\n"
   ]
  },
  {
   "cell_type": "code",
   "execution_count": 43,
   "id": "cfb8d13f",
   "metadata": {},
   "outputs": [],
   "source": [
    "\n",
    "# fetching titles\n",
    "divs = soup.find_all(\"div\")\n",
    "for div in divs:\n",
    "    a_tags = div.find_all(\"a\")\n",
    "    for a_tag in a_tags:\n",
    "        span_tags = a_tag.find_all(\"span\")\n",
    "        for span in span_tags:\n",
    "            job_title = span.text.strip()\n",
    "            titles.append(job_title)\n",
    "# driver.quit()"
   ]
  },
  {
   "cell_type": "code",
   "execution_count": 44,
   "id": "7299985f",
   "metadata": {},
   "outputs": [
    {
     "name": "stdout",
     "output_type": "stream",
     "text": [
      "['LinkedIn', 'ML Engineer', 'AI ML Engineer', 'AI/ML Engineer', 'Senior AI/ML Engineer', 'Associate Software Engineer- AI/ML', 'Artificial Intelligence / Machine Learning Engineer, [ 3years Experience, Salary Range: 500USD-900USD] - Job Id:24052025', 'Associate Software Engineer - AI/ML', 'AI/ML Engineer (Onsite, Lahore, PKR Salary)', 'Senior AIML Engineer', 'ML Engineer (Onsite, Lahore, USD Salary)', 'AI/ML Engineer', 'Senior Software Engineer - Python/AI/ML', 'Data Scientist', 'Data Scientist', 'Machine Learning Engineer', 'Senior Software Engineer - AI/ML', 'Associate Software Engineer- Python', 'Machine Learning Engineer', 'Deep Learning Engineer', 'AI/ML Engineer', 'Machine Learning Engineer', 'Sr. Machine Learning Engineer', 'Senior Software Engineer- AI/ML', 'Machine Learning Engineer', 'Machine Learning Engineer', 'Data Science Engineer', 'Junior AI Engineer', 'AI Research Scientist', 'Senior Software Engineer - AI/ML', 'Deep Learning Engineer', 'Associate Software Engineer - Data Science', 'Senior Software Engineer - Python/AIML', 'Deep Learning Specialist', 'Senior AI/ML Engineer', 'Software Engineer-Python/Django', 'Machine Learning & Computer Vision Engineer', 'Data Scientist, Tech', 'Senior Data Scientist', 'AI Research Scientist', 'AI Engineer', 'Associate Software Engineer - Data Science', 'Data Science Engineer', 'AI Engineer', 'Associate Software Engineer- Python/ React', 'Interested in joining our team?', 'Associate Unreal Developer', 'NLP Engineer', 'Position Vacant Lab Engineer BPS-17', 'AI Engineer', 'NLP Engineer', 'Data Science Manager', 'Junior Python Developer', 'Python Develpoer', 'AI Software Developer', 'Natural Language Processing (NLP) Engineer', 'Senior Software Engineer - AIML', 'AI Engineer', 'Software Engineer, Machine Learning', 'Machine Learning-R Data Scientist', 'Software Engineer- ROR', 'ML Engineer', 'AI ML Engineer', 'AI/ML Engineer', 'Senior AI/ML Engineer', 'Associate Software Engineer- AI/ML', 'Artificial Intelligence / Machine Learning Engineer, [ 3years Experience, Salary Range: 500USD-900USD] - Job Id:24052025', 'Associate Software Engineer - AI/ML', 'AI/ML Engineer (Onsite, Lahore, PKR Salary)', 'Senior AIML Engineer', 'ML Engineer (Onsite, Lahore, USD Salary)', 'AI/ML Engineer', 'Senior Software Engineer - Python/AI/ML', 'Data Scientist', 'Data Scientist', 'Machine Learning Engineer', 'Senior Software Engineer - AI/ML', 'Associate Software Engineer- Python', 'Machine Learning Engineer', 'Deep Learning Engineer', 'AI/ML Engineer', 'Machine Learning Engineer', 'Sr. Machine Learning Engineer', 'Senior Software Engineer- AI/ML', 'Machine Learning Engineer', 'Machine Learning Engineer', 'Data Science Engineer', 'Junior AI Engineer', 'AI Research Scientist', 'Senior Software Engineer - AI/ML', 'Deep Learning Engineer', 'Associate Software Engineer - Data Science', 'Senior Software Engineer - Python/AIML', 'Deep Learning Specialist', 'Senior AI/ML Engineer', 'Software Engineer-Python/Django', 'Machine Learning & Computer Vision Engineer', 'Data Scientist, Tech', 'Senior Data Scientist', 'AI Research Scientist', 'AI Engineer', 'Associate Software Engineer - Data Science', 'Data Science Engineer', 'AI Engineer', 'Associate Software Engineer- Python/ React', 'Interested in joining our team?', 'Associate Unreal Developer', 'NLP Engineer', 'Position Vacant Lab Engineer BPS-17', 'AI Engineer', 'NLP Engineer', 'Data Science Manager', 'Junior Python Developer', 'Python Develpoer', 'AI Software Developer', 'Natural Language Processing (NLP) Engineer', 'Senior Software Engineer - AIML', 'AI Engineer', 'Software Engineer, Machine Learning', 'Machine Learning-R Data Scientist', 'Software Engineer- ROR', 'ML Engineer', 'AI ML Engineer', 'AI/ML Engineer', 'Senior AI/ML Engineer', 'Associate Software Engineer- AI/ML', 'Artificial Intelligence / Machine Learning Engineer, [ 3years Experience, Salary Range: 500USD-900USD] - Job Id:24052025', 'Associate Software Engineer - AI/ML', 'AI/ML Engineer (Onsite, Lahore, PKR Salary)', 'Senior AIML Engineer', 'ML Engineer (Onsite, Lahore, USD Salary)', 'AI/ML Engineer', 'Senior Software Engineer - Python/AI/ML', 'Data Scientist', 'Data Scientist', 'Machine Learning Engineer', 'Senior Software Engineer - AI/ML', 'Associate Software Engineer- Python', 'Machine Learning Engineer', 'Deep Learning Engineer', 'AI/ML Engineer', 'Machine Learning Engineer', 'Sr. Machine Learning Engineer', 'Senior Software Engineer- AI/ML', 'Machine Learning Engineer', 'Machine Learning Engineer', 'Data Science Engineer', 'Junior AI Engineer', 'AI Research Scientist', 'Senior Software Engineer - AI/ML', 'Deep Learning Engineer', 'Associate Software Engineer - Data Science', 'Senior Software Engineer - Python/AIML', 'Deep Learning Specialist', 'Senior AI/ML Engineer', 'Software Engineer-Python/Django', 'Machine Learning & Computer Vision Engineer', 'Data Scientist, Tech', 'Senior Data Scientist', 'AI Research Scientist', 'AI Engineer', 'Associate Software Engineer - Data Science', 'Data Science Engineer', 'AI Engineer', 'Associate Software Engineer- Python/ React', 'Interested in joining our team?', 'Associate Unreal Developer', 'NLP Engineer', 'Position Vacant Lab Engineer BPS-17', 'AI Engineer', 'NLP Engineer', 'Data Science Manager', 'Junior Python Developer', 'Python Develpoer', 'AI Software Developer', 'Natural Language Processing (NLP) Engineer', 'Senior Software Engineer - AIML', 'AI Engineer', 'Software Engineer, Machine Learning', 'Machine Learning-R Data Scientist', 'Software Engineer- ROR']\n"
     ]
    }
   ],
   "source": [
    "print(titles)"
   ]
  },
  {
   "cell_type": "markdown",
   "id": "4ee7cafe",
   "metadata": {},
   "source": [
    "### Fetching Companies"
   ]
  },
  {
   "cell_type": "code",
   "execution_count": 45,
   "id": "90747ee5",
   "metadata": {},
   "outputs": [],
   "source": [
    "# Get all job cards\n",
    "job_cards = soup.find_all('div', class_=\"base-search-card__info\")\n",
    "\n",
    "# Extracting companies\n",
    "for job in job_cards:\n",
    "    company_span = job.find('h4', class_='base-search-card__subtitle')\n",
    "    if company_span:\n",
    "       comp = company_span.get_text(strip=True)\n",
    "       companies.append(comp)\n",
    "driver.quit()"
   ]
  },
  {
   "cell_type": "code",
   "execution_count": 46,
   "id": "ab794f20",
   "metadata": {},
   "outputs": [
    {
     "name": "stdout",
     "output_type": "stream",
     "text": [
      "['Fusemachines', 'Next Generation Innovations (NextGENi)', 'Fastn', 'Devsinc', 'Devsinc', 'Greeka.com', 'Devsinc', 'HR POD Careers', 'Devsinc', 'HR POD Careers', 'Burq', 'Devsinc', 'Nisum', 'SwipBox', 'Intelligent solutions PK', 'Devsinc', 'Devsinc', 'Translation Empire PK', 'Translation Empire PK', '9D Technologies', 'Avanceon Middle East & South Asia', 'Fusemachines', 'Devsinc', 'Conrad Labs', 'Translation Empire PK', 'Devsinc', 'Translation Empire PK', 'Translation Empire PK', 'Devsinc', 'Translation Empire PK', 'Devsinc', 'Devsinc', 'Translation Empire PK', 'Nisum', 'Devsinc', 'Flatgigs', 'ibex', 'FairMoney', 'Translation Empire PK', 'Flatgigs', 'Devsinc', 'Habib Bank AG Zurich', 'Creative Chaos', 'Devsinc', 'Motive', 'Devsinc', 'Translation Empire PK', 'Government  College University, Faisalabad', 'Translation Empire PK', 'Translation Empire PK', 'SWATX', 'Translation Empire PK', 'IKONIC', 'Translation Empire PK', 'Translation Empire PK', 'Devsinc', 'Translation Empire PK', 'Motive', 'ITC Worldwide', 'Devsinc']\n"
     ]
    }
   ],
   "source": [
    "print(companies)"
   ]
  },
  {
   "cell_type": "markdown",
   "id": "c17cceae",
   "metadata": {},
   "source": [
    "### Fetching Locations\n",
    "\n"
   ]
  },
  {
   "cell_type": "code",
   "execution_count": 47,
   "id": "dbc967f4",
   "metadata": {},
   "outputs": [],
   "source": [
    "# Extract data\n",
    "for job in job_cards:\n",
    "    # Location\n",
    "    location_span = job.find('span', class_='job-search-card__location')\n",
    "    if location_span:\n",
    "        locations.append(location_span.get_text(strip=True))\n",
    "\n",
    "driver.quit()"
   ]
  },
  {
   "cell_type": "code",
   "execution_count": 48,
   "id": "290df460",
   "metadata": {},
   "outputs": [
    {
     "name": "stdout",
     "output_type": "stream",
     "text": [
      "['Islamabad, Islāmābād, Pakistan', 'Karachi Division, Sindh, Pakistan', 'Islamabad, Islāmābād, Pakistan', 'Lahore, Punjab, Pakistan', 'Islamabad, Islāmābād, Pakistan', 'Pakistan', 'Lahore, Punjab, Pakistan', 'Lahore, Punjab, Pakistan', 'Lahore, Punjab, Pakistan', 'Lahore, Punjab, Pakistan', 'Lahore, Punjab, Pakistan', 'Lahore, Punjab, Pakistan', 'Islamabad, Islāmābād, Pakistan', 'Islāmābād, Pakistan', 'Islamabad, Islāmābād, Pakistan', 'Islamabad, Islāmābād, Pakistan', 'Islamabad, Islāmābād, Pakistan', 'Islamabad, Islāmābād, Pakistan', 'Islamabad, Islāmābād, Pakistan', 'Rawalpindi, Punjab, Pakistan', 'Lahore, Punjab, Pakistan', 'Pakistan', 'Lahore, Punjab, Pakistan', 'Lahore, Punjab, Pakistan', 'Rawalpindi, Punjab, Pakistan', 'Lahore, Punjab, Pakistan', 'Islamabad, Islāmābād, Pakistan', 'Islamabad, Islāmābād, Pakistan', 'Lahore, Punjab, Pakistan', 'Rawalpindi, Punjab, Pakistan', 'Islamabad, Islāmābād, Pakistan', 'Lahore, Punjab, Pakistan', 'Islamabad, Islāmābād, Pakistan', 'Lahore, Punjab, Pakistan', 'Lahore, Punjab, Pakistan', 'Karāchi, Sindh, Pakistan', 'Lahore, Punjab, Pakistan', 'Pakistan', 'Rawalpindi, Punjab, Pakistan', 'Karāchi, Sindh, Pakistan', 'Lahore, Punjab, Pakistan', 'Karāchi, Sindh, Pakistan', 'Pakistan', 'Lahore, Punjab, Pakistan', 'Pakistan', 'Lahore, Punjab, Pakistan', 'Islamabad, Islāmābād, Pakistan', 'Faisalabad, Punjab, Pakistan', 'Islamabad, Islāmābād, Pakistan', 'Rawalpindi, Punjab, Pakistan', 'Islamabad, Islāmābād, Pakistan', 'Rawalpindi, Punjab, Pakistan', 'Islamabad, Islāmābād, Pakistan', 'Islamabad, Islāmābād, Pakistan', 'Islamabad, Islāmābād, Pakistan', 'Lahore, Punjab, Pakistan', 'Rawalpindi, Punjab, Pakistan', 'Pakistan', 'Lahore, Punjab, Pakistan', 'Lahore, Punjab, Pakistan']\n"
     ]
    }
   ],
   "source": [
    "print(locations)"
   ]
  },
  {
   "cell_type": "markdown",
   "id": "2794a576",
   "metadata": {},
   "source": [
    "### Fetching Skills"
   ]
  },
  {
   "cell_type": "code",
   "execution_count": 49,
   "id": "16a671c2",
   "metadata": {},
   "outputs": [],
   "source": [
    "for job in job_cards:\n",
    "\n",
    "    # Skills (might be inside ul, li, or span in some job cards)\n",
    "    skill_tags = job.find_all(['li', 'span'], class_=lambda x: x and 'skill' in x.lower())\n",
    "    skills = [s.get_text(strip=True) for s in skill_tags]\n",
    "    skills.append(skills if skills else [\"N/A\"])\n"
   ]
  },
  {
   "cell_type": "code",
   "execution_count": 50,
   "id": "7bbf0c8f",
   "metadata": {},
   "outputs": [
    {
     "name": "stdout",
     "output_type": "stream",
     "text": [
      "[['N/A']]\n"
     ]
    }
   ],
   "source": [
    "print(skills)"
   ]
  },
  {
   "cell_type": "code",
   "execution_count": 51,
   "id": "6809dce6",
   "metadata": {},
   "outputs": [],
   "source": [
    "\n",
    "\n",
    "for job in job_cards:\n",
    "    # Date posted\n",
    "    date_span = job.find('time') or job.find('span', class_='job-search-card__listdate')\n",
    "    posted_dates.append(date_span.get_text(strip=True) if date_span else \"N/A\")\n",
    "\n",
    "driver.quit()\n",
    "\n",
    "\n"
   ]
  },
  {
   "cell_type": "code",
   "execution_count": 52,
   "id": "8b3f773a",
   "metadata": {},
   "outputs": [
    {
     "name": "stdout",
     "output_type": "stream",
     "text": [
      "['1 month ago', '1 month ago', '3 days ago', '1 month ago', '1 month ago', '12 hours ago', '1 month ago', '2 days ago', '3 days ago', '3 weeks ago', '1 month ago', '1 month ago', '2 weeks ago', '5 days ago', '1 day ago', '1 month ago', '1 month ago', '3 weeks ago', '3 weeks ago', '3 weeks ago', '2 months ago', '1 month ago', '1 month ago', '2 weeks ago', '3 weeks ago', '3 weeks ago', '3 weeks ago', '3 weeks ago', '1 month ago', '3 weeks ago', '1 month ago', '1 month ago', '3 weeks ago', '1 day ago', '1 month ago', '1 month ago', '2 days ago', '2 weeks ago', '3 weeks ago', '1 month ago', '1 month ago', '4 days ago', '1 month ago', '1 month ago', '1 week ago', '1 week ago', '3 weeks ago', '7 months ago', '3 weeks ago', '3 weeks ago', '1 month ago', '1 month ago', '3 weeks ago', '3 weeks ago', '3 weeks ago', '1 month ago', '3 weeks ago', '1 week ago', '3 weeks ago', '1 month ago']\n"
     ]
    }
   ],
   "source": [
    "print(posted_dates)"
   ]
  },
  {
   "cell_type": "code",
   "execution_count": null,
   "id": "7380047d",
   "metadata": {},
   "outputs": [],
   "source": []
  },
  {
   "cell_type": "code",
   "execution_count": null,
   "id": "48f72e8d",
   "metadata": {},
   "outputs": [
    {
     "name": "stdout",
     "output_type": "stream",
     "text": [
      "ML Engineer , Fusemachines |, Islamabad, Islāmābād, Pakistan | 📅 1 month ago,, Skills: N/A\n",
      "AI ML Engineer , Next Generation Innovations (NextGENi) |, Karachi Division, Sindh, Pakistan | 📅 1 month ago,, Skills: N/A\n",
      "AI/ML Engineer , Fastn |, Islamabad, Islāmābād, Pakistan | 📅 3 days ago,, Skills: N/A\n",
      "Senior AI/ML Engineer , Devsinc |, Lahore, Punjab, Pakistan | 📅 1 month ago,, Skills: N/A\n",
      "Associate Software Engineer- AI/ML , Devsinc |, Islamabad, Islāmābād, Pakistan | 📅 1 month ago,, Skills: N/A\n",
      "Artificial Intelligence / Machine Learning Engineer, [ 3years Experience, Salary Range: 500USD-900USD] - Job Id:24052025 , Greeka.com |, Pakistan | 📅 12 hours ago,, Skills: N/A\n",
      "Associate Software Engineer - AI/ML , Devsinc |, Lahore, Punjab, Pakistan | 📅 1 month ago,, Skills: N/A\n",
      "Senior AIML Engineer , Devsinc |, Lahore, Punjab, Pakistan | 📅 3 days ago,, Skills: N/A\n",
      "AI/ML Engineer (Onsite, Lahore, PKR Salary) , HR POD Careers |, Lahore, Punjab, Pakistan | 📅 2 days ago,, Skills: N/A\n",
      "ML Engineer (Onsite, Lahore, USD Salary) , HR POD Careers |, Lahore, Punjab, Pakistan | 📅 3 weeks ago,, Skills: N/A\n",
      "AI/ML Engineer , Burq |, Lahore, Punjab, Pakistan | 📅 1 month ago,, Skills: N/A\n",
      "Senior Software Engineer - Python/AI/ML , Devsinc |, Lahore, Punjab, Pakistan | 📅 1 month ago,, Skills: N/A\n",
      "Data Scientist , Nisum |, Islamabad, Islāmābād, Pakistan | 📅 2 weeks ago,, Skills: N/A\n",
      "Machine Learning Engineer , Intelligent solutions PK |, Islamabad, Islāmābād, Pakistan | 📅 1 day ago,, Skills: N/A\n",
      "Senior Software Engineer - AI/ML , Devsinc |, Islamabad, Islāmābād, Pakistan | 📅 1 month ago,, Skills: N/A\n",
      "Associate Software Engineer- Python , Devsinc |, Islamabad, Islāmābād, Pakistan | 📅 1 month ago,, Skills: N/A\n",
      "Machine Learning Engineer , Translation Empire PK |, Islamabad, Islāmābād, Pakistan | 📅 3 weeks ago,, Skills: N/A\n",
      "Deep Learning Engineer , Translation Empire PK |, Islamabad, Islāmābād, Pakistan | 📅 3 weeks ago,, Skills: N/A\n",
      "AI/ML Engineer , 9D Technologies |, Rawalpindi, Punjab, Pakistan | 📅 3 weeks ago,, Skills: N/A\n",
      "Machine Learning Engineer , Avanceon Middle East & South Asia |, Lahore, Punjab, Pakistan | 📅 2 months ago,, Skills: N/A\n",
      "Sr. Machine Learning Engineer , Fusemachines |, Pakistan | 📅 1 month ago,, Skills: N/A\n",
      "Senior Software Engineer- AI/ML , Devsinc |, Lahore, Punjab, Pakistan | 📅 1 month ago,, Skills: N/A\n",
      "Machine Learning Engineer , Conrad Labs |, Lahore, Punjab, Pakistan | 📅 2 weeks ago,, Skills: N/A\n",
      "Machine Learning Engineer , Translation Empire PK |, Rawalpindi, Punjab, Pakistan | 📅 3 weeks ago,, Skills: N/A\n",
      "Data Science Engineer , Devsinc |, Lahore, Punjab, Pakistan | 📅 3 weeks ago,, Skills: N/A\n",
      "Junior AI Engineer , Translation Empire PK |, Islamabad, Islāmābād, Pakistan | 📅 3 weeks ago,, Skills: N/A\n",
      "AI Research Scientist , Translation Empire PK |, Islamabad, Islāmābād, Pakistan | 📅 3 weeks ago,, Skills: N/A\n",
      "Deep Learning Engineer , Translation Empire PK |, Rawalpindi, Punjab, Pakistan | 📅 3 weeks ago,, Skills: N/A\n",
      "Associate Software Engineer - Data Science , Devsinc |, Islamabad, Islāmābād, Pakistan | 📅 1 month ago,, Skills: N/A\n",
      "Senior Software Engineer - Python/AIML , Devsinc |, Lahore, Punjab, Pakistan | 📅 1 month ago,, Skills: N/A\n",
      "Senior Software Engineer - AI/ML , Devsinc |, Lahore, Punjab, Pakistan | 📅 1 month ago,, Skills: N/A\n",
      "Data Scientist, Tech , ibex |, Lahore, Punjab, Pakistan | 📅 2 days ago,, Skills: N/A\n",
      "Deep Learning Specialist , Translation Empire PK |, Islamabad, Islāmābād, Pakistan | 📅 3 weeks ago,, Skills: N/A\n",
      "Senior AI/ML Engineer , Nisum |, Lahore, Punjab, Pakistan | 📅 1 day ago,, Skills: N/A\n",
      "Software Engineer-Python/Django , Devsinc |, Lahore, Punjab, Pakistan | 📅 1 month ago,, Skills: N/A\n",
      "Machine Learning & Computer Vision Engineer , Flatgigs |, Karāchi, Sindh, Pakistan | 📅 1 month ago,, Skills: N/A\n",
      "Senior Data Scientist , FairMoney |, Pakistan | 📅 2 weeks ago,, Skills: N/A\n",
      "AI Research Scientist , Translation Empire PK |, Rawalpindi, Punjab, Pakistan | 📅 3 weeks ago,, Skills: N/A\n",
      "AI Engineer , Flatgigs |, Karāchi, Sindh, Pakistan | 📅 1 month ago,, Skills: N/A\n",
      "Associate Software Engineer - Data Science , Devsinc |, Lahore, Punjab, Pakistan | 📅 1 month ago,, Skills: N/A\n",
      "Data Science Engineer , Habib Bank AG Zurich |, Karāchi, Sindh, Pakistan | 📅 4 days ago,, Skills: N/A\n",
      "AI Engineer , Creative Chaos |, Pakistan | 📅 1 month ago,, Skills: N/A\n",
      "Associate Software Engineer- Python/ React , Devsinc |, Lahore, Punjab, Pakistan | 📅 1 month ago,, Skills: N/A\n",
      "Interested in joining our team? , Motive |, Pakistan | 📅 1 week ago,, Skills: N/A\n",
      "Associate Unreal Developer , Devsinc |, Lahore, Punjab, Pakistan | 📅 1 week ago,, Skills: N/A\n",
      "Python Developer , BlackCrown Technologies |, Pakistan | 📅 2 days ago,, Skills: N/A\n",
      "NLP Engineer , Translation Empire PK |, Islamabad, Islāmābād, Pakistan | 📅 3 weeks ago,, Skills: N/A\n",
      "Position Vacant Lab Engineer BPS-17 , Government  College University, Faisalabad |, Faisalabad, Punjab, Pakistan | 📅 7 months ago,, Skills: N/A\n",
      "AI Engineer , Translation Empire PK |, Islamabad, Islāmābād, Pakistan | 📅 3 weeks ago,, Skills: N/A\n",
      "NLP Engineer , Translation Empire PK |, Rawalpindi, Punjab, Pakistan | 📅 3 weeks ago,, Skills: N/A\n",
      "Data Science Manager , SWATX |, Islamabad, Islāmābād, Pakistan | 📅 1 month ago,, Skills: N/A\n",
      "Junior Python Developer , Translation Empire PK |, Rawalpindi, Punjab, Pakistan | 📅 1 month ago,, Skills: N/A\n",
      "Python Develpoer , IKONIC |, Islamabad, Islāmābād, Pakistan | 📅 3 weeks ago,, Skills: N/A\n",
      "AI Software Developer , Translation Empire PK |, Islamabad, Islāmābād, Pakistan | 📅 3 weeks ago,, Skills: N/A\n",
      "Natural Language Processing (NLP) Engineer , Translation Empire PK |, Islamabad, Islāmābād, Pakistan | 📅 3 weeks ago,, Skills: N/A\n",
      "Senior Software Engineer - AIML , Devsinc |, Lahore, Punjab, Pakistan | 📅 1 month ago,, Skills: N/A\n",
      "Data Scientist , SwipBox |, Islāmābād, Pakistan | 📅 5 days ago,, Skills: N/A\n",
      "AI Engineer , Translation Empire PK |, Rawalpindi, Punjab, Pakistan | 📅 3 weeks ago,, Skills: N/A\n",
      "Software Engineer, Machine Learning , Motive |, Pakistan | 📅 1 week ago,, Skills: N/A\n",
      "Machine Learning-R Data Scientist , ITC Worldwide |, Lahore, Punjab, Pakistan | 📅 3 weeks ago,, Skills: N/A\n"
     ]
    }
   ],
   "source": [
    "from selenium import webdriver\n",
    "from selenium.webdriver.chrome.service import Service\n",
    "from webdriver_manager.chrome import ChromeDriverManager\n",
    "from bs4 import BeautifulSoup\n",
    "import time\n",
    "\n",
    "# Setup Selenium WebDriver\n",
    "options = webdriver.ChromeOptions()\n",
    "options.add_argument('--headless')\n",
    "driver = webdriver.Chrome(service=Service(ChromeDriverManager().install()), options=options)\n",
    "\n",
    "# Open LinkedIn Jobs Page\n",
    "url = \"https://www.linkedin.com/jobs/search/?keywords=data%20scientist&location=Pakistan\"\n",
    "driver.get(url)\n",
    "time.sleep(5)\n",
    "\n",
    "# Parse with BeautifulSoup\n",
    "soup = BeautifulSoup(driver.page_source, 'html.parser')\n",
    "job_cards = soup.find_all('div', class_='base-search-card__info')\n",
    "\n",
    "# Containers\n",
    "titles = []\n",
    "companies = []\n",
    "locations = []\n",
    "skills_list = []\n",
    "dates_posted = []\n",
    "\n",
    "# Extract job information\n",
    "for job in job_cards:\n",
    "    # Title\n",
    "    title = job.find('h3', class_='base-search-card__title')\n",
    "    titles.append(title.get_text(strip=True) if title else \"N/A\")\n",
    "\n",
    "    # Company\n",
    "    company = job.find('h4', class_='base-search-card__subtitle')\n",
    "    companies.append(company.get_text(strip=True) if company else \"N/A\")\n",
    "\n",
    "    # Location\n",
    "    location = job.find('span', class_='job-search-card__location')\n",
    "    locations.append(location.get_text(strip=True) if location else \"N/A\")\n",
    "\n",
    "    # Skills (optional, mostly found in full job description)\n",
    "    skill_tags = job.find_all(['li', 'span'], class_=lambda x: x and 'skill' in x.lower())\n",
    "    skills = [s.get_text(strip=True) for s in skill_tags]\n",
    "    skills_list.append(skills if skills else [\"N/A\"])\n",
    "\n",
    "    # Date Posted\n",
    "    date_span = job.find('time') or job.find('span', class_='job-search-card__listdate')\n",
    "    dates_posted.append(date_span.get_text(strip=True) if date_span else \"N/A\")\n",
    "\n",
    "driver.quit()\n",
    "\n",
    "# Print Results\n",
    "for t, c, l, s, d in zip(titles, companies, locations, skills_list, dates_posted):\n",
    "    print(f\"{t} , {c} |, {l} | {d},, Skills: {', '.join(s)}\")\n"
   ]
  },
  {
   "cell_type": "code",
   "execution_count": null,
   "id": "da72e5ed",
   "metadata": {},
   "outputs": [],
   "source": []
  }
 ],
 "metadata": {
  "kernelspec": {
   "display_name": "smithac",
   "language": "python",
   "name": "python3"
  },
  "language_info": {
   "codemirror_mode": {
    "name": "ipython",
    "version": 3
   },
   "file_extension": ".py",
   "mimetype": "text/x-python",
   "name": "python",
   "nbconvert_exporter": "python",
   "pygments_lexer": "ipython3",
   "version": "3.12.7"
  }
 },
 "nbformat": 4,
 "nbformat_minor": 5
}
